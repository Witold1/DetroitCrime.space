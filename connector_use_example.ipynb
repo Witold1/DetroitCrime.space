{
 "cells": [
  {
   "cell_type": "code",
   "execution_count": 1,
   "metadata": {},
   "outputs": [],
   "source": [
    "# раcкомментировать, если не добавлено в PATH или не установлено\n",
    "# !pip install  .\\.\n",
    "# !pip uninstall elsevier\n",
    "\n",
    "# import sys\n",
    "# sys.path.insert(1, './src')"
   ]
  },
  {
   "cell_type": "code",
   "execution_count": 2,
   "metadata": {},
   "outputs": [],
   "source": [
    "import src.db_connector"
   ]
  },
  {
   "cell_type": "code",
   "execution_count": 4,
   "metadata": {},
   "outputs": [],
   "source": [
    "mongo_string = src.db_connector.read_credentials()\n",
    "client = src.db_connector.db_connector(connect_mongo_string=mongo_string)\n",
    "db_database = client.crimes\n",
    "detroit_collection = db_database.detroit"
   ]
  },
  {
   "cell_type": "code",
   "execution_count": 8,
   "metadata": {},
   "outputs": [],
   "source": [
    "import datetime\n",
    "personDocument = {\n",
    "  \"name\": { \"first\": \"Alan\", \"last\": \"Turing II, Jr.\" },\n",
    "  \"birth\": datetime.datetime(1912, 6, 23),\n",
    "  \"death\": datetime.datetime(1954, 6, 7),\n",
    "  \"contribs\": [ \"Turing machine\", \"Turing test\", \"Turingery\" ],\n",
    "  \"views\": 125000012111\n",
    "}"
   ]
  },
  {
   "cell_type": "code",
   "execution_count": 9,
   "metadata": {},
   "outputs": [
    {
     "name": "stdout",
     "output_type": "stream",
     "text": [
      "5ef131b28726e3046050fdea\n"
     ]
    }
   ],
   "source": [
    "src.db_connector.insert_items(collection=detroit_collection, container=[personDocument])"
   ]
  },
  {
   "cell_type": "code",
   "execution_count": 11,
   "metadata": {},
   "outputs": [
    {
     "name": "stdout",
     "output_type": "stream",
     "text": [
      "{'_id': ObjectId('5ef12a408726e32aa4c17d55'), 'name': {'first': 'Alan', 'last': 'Turing II, Jr.'}, 'birth': datetime.datetime(1912, 6, 23, 0, 0), 'death': datetime.datetime(1954, 6, 7, 0, 0), 'contribs': ['Turing machine', 'Turing test', 'Turingery'], 'views': 125000012111}\n",
      "{'_id': ObjectId('5ef12a5c8726e32aa4c17d57'), 'name': {'first': 'Alan', 'last': 'Turing II, Jr.'}, 'birth': datetime.datetime(1912, 6, 23, 0, 0), 'death': datetime.datetime(1954, 6, 7, 0, 0), 'contribs': ['Turing machine', 'Turing test', 'Turingery'], 'views': 125000012111}\n",
      "{'_id': ObjectId('5ef12a828726e32aa4c17d59'), 'name': {'first': 'Alan', 'last': 'Turing II, Jr.'}, 'birth': datetime.datetime(1912, 6, 23, 0, 0), 'death': datetime.datetime(1954, 6, 7, 0, 0), 'contribs': ['Turing machine', 'Turing test', 'Turingery'], 'views': 125000012111}\n",
      "{'_id': ObjectId('5ef12a918726e32aa4c17d5b'), 'name': {'first': 'Alan', 'last': 'Turing II, Jr.'}, 'birth': datetime.datetime(1912, 6, 23, 0, 0), 'death': datetime.datetime(1954, 6, 7, 0, 0), 'contribs': ['Turing machine', 'Turing test', 'Turingery'], 'views': 125000012111}\n",
      "{'_id': ObjectId('5ef131ae8726e3046050fde9'), 'name': {'first': 'Alan', 'last': 'Turing II, Jr.'}, 'birth': datetime.datetime(1912, 6, 23, 0, 0), 'death': datetime.datetime(1954, 6, 7, 0, 0), 'contribs': ['Turing machine', 'Turing test', 'Turingery'], 'views': 125000012111}\n",
      "{'_id': ObjectId('5ef131b28726e3046050fdea'), 'name': {'first': 'Alan', 'last': 'Turing II, Jr.'}, 'birth': datetime.datetime(1912, 6, 23, 0, 0), 'death': datetime.datetime(1954, 6, 7, 0, 0), 'contribs': ['Turing machine', 'Turing test', 'Turingery'], 'views': 125000012111}\n"
     ]
    }
   ],
   "source": [
    "src.db_connector.get_items(detroit_collection)"
   ]
  },
  {
   "cell_type": "code",
   "execution_count": null,
   "metadata": {},
   "outputs": [],
   "source": []
  }
 ],
 "metadata": {
  "kernelspec": {
   "display_name": "Python 3",
   "language": "python",
   "name": "python3"
  }
 },
 "nbformat": 4,
 "nbformat_minor": 4
}
