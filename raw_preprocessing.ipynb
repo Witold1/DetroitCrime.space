{
 "cells": [
  {
   "cell_type": "markdown",
   "metadata": {},
   "source": [
    "# Preprocessing\n",
    "_Load, process, feature eng., save_"
   ]
  },
  {
   "cell_type": "code",
   "execution_count": 1,
   "metadata": {},
   "outputs": [],
   "source": [
    "# initialise packages and meta-constants in this notebook\n",
    "import numpy as np\n",
    "import pandas as pd\n",
    "PATH_TO_RAW_DATA = 'data\\\\raw\\\\'\n",
    "PATH_TO_PROC_DATA = 'data\\\\interim\\\\'\n",
    "LOAD_REQ = False"
   ]
  },
  {
   "cell_type": "markdown",
   "metadata": {},
   "source": [
    "## Read."
   ]
  },
  {
   "cell_type": "markdown",
   "metadata": {},
   "source": [
    "Load Data. Traditional way"
   ]
  },
  {
   "cell_type": "code",
   "execution_count": 2,
   "metadata": {},
   "outputs": [
    {
     "name": "stdout",
     "output_type": "stream",
     "text": [
      "Wall time: 1.28 s\n"
     ]
    },
    {
     "data": {
      "text/html": [
       "<div>\n",
       "<style scoped>\n",
       "    .dataframe tbody tr th:only-of-type {\n",
       "        vertical-align: middle;\n",
       "    }\n",
       "\n",
       "    .dataframe tbody tr th {\n",
       "        vertical-align: top;\n",
       "    }\n",
       "\n",
       "    .dataframe thead th {\n",
       "        text-align: right;\n",
       "    }\n",
       "</style>\n",
       "<table border=\"1\" class=\"dataframe\">\n",
       "  <thead>\n",
       "    <tr style=\"text-align: right;\">\n",
       "      <th></th>\n",
       "      <th>X</th>\n",
       "      <th>Y</th>\n",
       "      <th>crime_id</th>\n",
       "      <th>report_number</th>\n",
       "      <th>address</th>\n",
       "      <th>offense_description</th>\n",
       "      <th>offense_category</th>\n",
       "      <th>state_offense_code</th>\n",
       "      <th>arrest_charge</th>\n",
       "      <th>charge_description</th>\n",
       "      <th>...</th>\n",
       "      <th>year</th>\n",
       "      <th>scout_car_area</th>\n",
       "      <th>precinct</th>\n",
       "      <th>block_id</th>\n",
       "      <th>neighborhood</th>\n",
       "      <th>council_district</th>\n",
       "      <th>zip_code</th>\n",
       "      <th>longitude</th>\n",
       "      <th>latitude</th>\n",
       "      <th>oid</th>\n",
       "    </tr>\n",
       "  </thead>\n",
       "  <tbody>\n",
       "    <tr>\n",
       "      <th>0</th>\n",
       "      <td>-83.227700</td>\n",
       "      <td>42.372037</td>\n",
       "      <td>3106656</td>\n",
       "      <td>1708200056</td>\n",
       "      <td>Warwick St &amp; Plymouth Rd</td>\n",
       "      <td>LARCENY - OTHER</td>\n",
       "      <td>LARCENY</td>\n",
       "      <td>2307</td>\n",
       "      <td>23007</td>\n",
       "      <td>LARCENY - OTHER</td>\n",
       "      <td>...</td>\n",
       "      <td>2017</td>\n",
       "      <td>0607</td>\n",
       "      <td>06</td>\n",
       "      <td>261635468002000</td>\n",
       "      <td>Franklin Park</td>\n",
       "      <td>7</td>\n",
       "      <td>48228</td>\n",
       "      <td>-83.227700</td>\n",
       "      <td>42.372037</td>\n",
       "      <td>23794854</td>\n",
       "    </tr>\n",
       "    <tr>\n",
       "      <th>1</th>\n",
       "      <td>-83.085641</td>\n",
       "      <td>42.388613</td>\n",
       "      <td>3048604</td>\n",
       "      <td>1704100012</td>\n",
       "      <td>Glynn Ct &amp; Woodward Ave</td>\n",
       "      <td>ROBBERY</td>\n",
       "      <td>BURGLARY</td>\n",
       "      <td>2201</td>\n",
       "      <td>22001</td>\n",
       "      <td>BURGLARY - FORCED ENTRY</td>\n",
       "      <td>...</td>\n",
       "      <td>2017</td>\n",
       "      <td>1005</td>\n",
       "      <td>10</td>\n",
       "      <td>261635323001000</td>\n",
       "      <td>Boston Edison</td>\n",
       "      <td>5</td>\n",
       "      <td>48202</td>\n",
       "      <td>-83.085641</td>\n",
       "      <td>42.388613</td>\n",
       "      <td>23794855</td>\n",
       "    </tr>\n",
       "    <tr>\n",
       "      <th>2</th>\n",
       "      <td>-83.225292</td>\n",
       "      <td>42.372590</td>\n",
       "      <td>3473019</td>\n",
       "      <td>2002210298</td>\n",
       "      <td>Weaver St &amp; Stahelin Ave</td>\n",
       "      <td>BURGLARY - FORCED ENTRY</td>\n",
       "      <td>BURGLARY</td>\n",
       "      <td>2201</td>\n",
       "      <td>22001</td>\n",
       "      <td>BURGLARY - FORCED ENTRY</td>\n",
       "      <td>...</td>\n",
       "      <td>2020</td>\n",
       "      <td>0604</td>\n",
       "      <td>06</td>\n",
       "      <td>261635469001016</td>\n",
       "      <td>Southfield Plymouth</td>\n",
       "      <td>7</td>\n",
       "      <td>48228</td>\n",
       "      <td>-83.225292</td>\n",
       "      <td>42.372590</td>\n",
       "      <td>23794856</td>\n",
       "    </tr>\n",
       "  </tbody>\n",
       "</table>\n",
       "<p>3 rows × 24 columns</p>\n",
       "</div>"
      ],
      "text/plain": [
       "           X          Y  crime_id  report_number                   address  \\\n",
       "0 -83.227700  42.372037   3106656     1708200056  Warwick St & Plymouth Rd   \n",
       "1 -83.085641  42.388613   3048604     1704100012   Glynn Ct & Woodward Ave   \n",
       "2 -83.225292  42.372590   3473019     2002210298  Weaver St & Stahelin Ave   \n",
       "\n",
       "       offense_description offense_category  state_offense_code arrest_charge  \\\n",
       "0          LARCENY - OTHER          LARCENY                2307         23007   \n",
       "1                  ROBBERY         BURGLARY                2201         22001   \n",
       "2  BURGLARY - FORCED ENTRY         BURGLARY                2201         22001   \n",
       "\n",
       "        charge_description  ...  year scout_car_area  precinct  \\\n",
       "0          LARCENY - OTHER  ...  2017           0607        06   \n",
       "1  BURGLARY - FORCED ENTRY  ...  2017           1005        10   \n",
       "2  BURGLARY - FORCED ENTRY  ...  2020           0604        06   \n",
       "\n",
       "          block_id         neighborhood council_district zip_code  longitude  \\\n",
       "0  261635468002000        Franklin Park                7    48228 -83.227700   \n",
       "1  261635323001000        Boston Edison                5    48202 -83.085641   \n",
       "2  261635469001016  Southfield Plymouth                7    48228 -83.225292   \n",
       "\n",
       "    latitude       oid  \n",
       "0  42.372037  23794854  \n",
       "1  42.388613  23794855  \n",
       "2  42.372590  23794856  \n",
       "\n",
       "[3 rows x 24 columns]"
      ]
     },
     "execution_count": 2,
     "metadata": {},
     "output_type": "execute_result"
    }
   ],
   "source": [
    "%%time\n",
    "df = pd.read_csv(PATH_TO_RAW_DATA + 'RMS_Crime_Incidents.csv', low_memory=False)\n",
    "df.head(3)"
   ]
  },
  {
   "cell_type": "markdown",
   "metadata": {},
   "source": [
    "Let's see the data."
   ]
  },
  {
   "cell_type": "code",
   "execution_count": 3,
   "metadata": {},
   "outputs": [
    {
     "data": {
      "text/plain": [
       "Index(['X', 'Y', 'crime_id', 'report_number', 'address', 'offense_description',\n",
       "       'offense_category', 'state_offense_code', 'arrest_charge',\n",
       "       'charge_description', 'incident_timestamp', 'incident_time',\n",
       "       'day_of_week', 'hour_of_day', 'year', 'scout_car_area', 'precinct',\n",
       "       'block_id', 'neighborhood', 'council_district', 'zip_code', 'longitude',\n",
       "       'latitude', 'oid'],\n",
       "      dtype='object')"
      ]
     },
     "execution_count": 3,
     "metadata": {},
     "output_type": "execute_result"
    }
   ],
   "source": [
    "df.columns"
   ]
  },
  {
   "cell_type": "code",
   "execution_count": 4,
   "metadata": {},
   "outputs": [
    {
     "data": {
      "text/plain": [
       "X                                      -83.2277\n",
       "Y                                        42.372\n",
       "crime_id                                3106656\n",
       "report_number                        1708200056\n",
       "address                Warwick St & Plymouth Rd\n",
       "offense_description             LARCENY - OTHER\n",
       "offense_category                        LARCENY\n",
       "state_offense_code                         2307\n",
       "arrest_charge                             23007\n",
       "charge_description              LARCENY - OTHER\n",
       "incident_timestamp     2017-08-20T11:28:00.000Z\n",
       "incident_time                             07:28\n",
       "day_of_week                                   7\n",
       "hour_of_day                                   7\n",
       "year                                       2017\n",
       "scout_car_area                             0607\n",
       "precinct                                     06\n",
       "block_id                        261635468002000\n",
       "neighborhood                      Franklin Park\n",
       "council_district                              7\n",
       "zip_code                                  48228\n",
       "longitude                              -83.2277\n",
       "latitude                                 42.372\n",
       "oid                                    23794854\n",
       "Name: 0, dtype: object"
      ]
     },
     "execution_count": 4,
     "metadata": {},
     "output_type": "execute_result"
    }
   ],
   "source": [
    "df.loc[0]"
   ]
  },
  {
   "cell_type": "markdown",
   "metadata": {},
   "source": [
    "**Let's evaluate the time distribution available in a dataset of observations now**"
   ]
  },
  {
   "cell_type": "code",
   "execution_count": 5,
   "metadata": {},
   "outputs": [
    {
     "data": {
      "text/plain": [
       "<matplotlib.axes._subplots.AxesSubplot at 0x26cb376fd0>"
      ]
     },
     "execution_count": 5,
     "metadata": {},
     "output_type": "execute_result"
    },
    {
     "data": {
      "image/png": "[encoded data removed]",
      "text/plain": [
       "<Figure size 720x216 with 1 Axes>"
      ]
     },
     "metadata": {
      "needs_background": "light"
     },
     "output_type": "display_data"
    }
   ],
   "source": [
    "df.groupby('year').crime_id.count().plot.bar(figsize=(10, 3))"
   ]
  },
  {
   "cell_type": "markdown",
   "metadata": {},
   "source": [
    "Let's slice only new years. As there are a limited number of observations before the 2016-2017 period, we will evaluate only 2016+ period"
   ]
  },
  {
   "cell_type": "code",
   "execution_count": 6,
   "metadata": {},
   "outputs": [],
   "source": [
    "df = df[df.year >= 2016]"
   ]
  },
  {
   "cell_type": "markdown",
   "metadata": {},
   "source": [
    "## Feature eng."
   ]
  },
  {
   "cell_type": "markdown",
   "metadata": {},
   "source": [
    "### Cats of crimes"
   ]
  },
  {
   "cell_type": "markdown",
   "metadata": {},
   "source": [
    "There are a few **classifications of crimes** exist. We will take a look to label our crimes on _National Incident-Based Reporting System (NIBRS) user manual_:\n",
    "```\n",
    "Source (avaliable on feb 2020):\n",
    "ucr-2019-1-nibrs-user-manual.pdf -> \n",
    "        * https://www.atlantapd.org/Home/ShowDocument?id=2881 \n",
    "        * https://www.fbi.gov/file-repository/ucr/ucr-2019-1-nibrs-user-manual.pdf/view\n",
    "```\n",
    "\n",
    "We found, that this classification is use **3** types:\n",
    "   * Offences against **person**\n",
    "   * Offences against **society**\n",
    "   * Offences against **property**\n",
    "   \n",
    "**On the other side**, we also might use the help from domain experts to make our classifications broader and to fit it on a certain problem."
   ]
  },
  {
   "cell_type": "markdown",
   "metadata": {},
   "source": [
    "Take a look at the categories used in our data."
   ]
  },
  {
   "cell_type": "code",
   "execution_count": 7,
   "metadata": {},
   "outputs": [
    {
     "data": {
      "text/plain": [
       "array(['LARCENY', 'BURGLARY', 'FRAUD', 'STOLEN VEHICLE', 'RUNAWAY',\n",
       "       'OTHER', 'DAMAGE TO PROPERTY', 'ARSON', 'OBSTRUCTING THE POLICE',\n",
       "       'HOMICIDE', 'JUSTIFIABLE HOMICIDE', 'KIDNAPPING', 'SEXUAL ASSAULT',\n",
       "       'SEX OFFENSES', 'ASSAULT', 'AGGRAVATED ASSAULT', 'STOLEN PROPERTY',\n",
       "       'DANGEROUS DRUGS', 'FAMILY OFFENSE', 'GAMBLING', 'LIQUOR',\n",
       "       'WEAPONS OFFENSES', 'DISORDERLY CONDUCT', 'OUIL', 'MISCELLANEOUS',\n",
       "       'ROBBERY', 'SOLICITATION', 'EXTORTION', 'FORGERY',\n",
       "       'OBSTRUCTING JUDICIARY'], dtype=object)"
      ]
     },
     "execution_count": 7,
     "metadata": {},
     "output_type": "execute_result"
    }
   ],
   "source": [
    "cats = df.offense_category.unique()\n",
    "cats"
   ]
  },
  {
   "cell_type": "markdown",
   "metadata": {},
   "source": [
    "Now to prepare  the relative `df` indexes of offenses according to our classification of crimes (type/category):"
   ]
  },
  {
   "cell_type": "code",
   "execution_count": 8,
   "metadata": {},
   "outputs": [],
   "source": [
    "index_to_society = df.offense_category[df.offense_category.isin(\\\n",
    "        ['DANGEROUS DRUG', 'GAMBLING', 'WEAPONS OFFENSES'])].index\n",
    "\n",
    "index_to_person = df.offense_category[df.offense_category.isin(\\\n",
    "        ['SEX OFFENSES', 'SEXUAL ASSAULT', 'HOMICIDE', 'KIDNAPPING', 'ASSAULT', 'AGGRAVATED ASSAULT'])].index\n",
    "\n",
    "index_to_property = df.offense_category[df.offense_category.isin(\\\n",
    "        ['ARSON', 'LARCENY', 'BURGLARY', 'STOLEN VEHICLE', 'FRAUD', \n",
    "         'DAMAGE TO PROPERTY', 'STOLEN PROPERTY', 'ROBBERY', 'EXTORTION', 'FORGERY'])].index\n",
    "\n",
    "# The list of classified as others/non-crimes\n",
    "# OUIL, MISCELLANEOUS, OBSTRUCTING THE POLICE, JUSTIFIABLE HOMICIDE, FAMILY OFFENSE, \n",
    "# LIQUOR, DISORDERLY CONDUCT, OBSTRUCTING JUDICIARY"
   ]
  },
  {
   "cell_type": "code",
   "execution_count": 9,
   "metadata": {},
   "outputs": [],
   "source": [
    "def process_cats():\n",
    "    df['Crime Against'] = 'Another'\n",
    "    df.loc[index_to_society, 'Crime Against'] = 'Society'\n",
    "    df.loc[index_to_person, 'Crime Against'] = 'Person'\n",
    "    df.loc[index_to_property, 'Crime Against'] = 'Property'   "
   ]
  },
  {
   "cell_type": "code",
   "execution_count": 10,
   "metadata": {},
   "outputs": [
    {
     "name": "stdout",
     "output_type": "stream",
     "text": [
      "Wall time: 203 ms\n"
     ]
    }
   ],
   "source": [
    "%%time\n",
    "process_cats()"
   ]
  },
  {
   "cell_type": "markdown",
   "metadata": {},
   "source": [
    "### Time\n",
    "**Let's preprocess timestamps in the data**. We also need to set a proper a timezone."
   ]
  },
  {
   "cell_type": "code",
   "execution_count": 11,
   "metadata": {},
   "outputs": [],
   "source": [
    "def process_timestamps():\n",
    "    # timezone\n",
    "    df['incident_timestamp_dt'] = pd.to_datetime(df['incident_timestamp']).dt.tz_convert('America/Detroit')\n",
    "    # times\n",
    "    df['incident_timestamp_dt_month'] = df['incident_timestamp_dt'].dt.month\n",
    "    df['incident_timestamp_dt_hour'] = df['incident_timestamp_dt'].dt.hour\n",
    "    df['incident_timestamp_dt_day_of_week'] = df['incident_timestamp_dt'].dt.dayofweek\n",
    "    df['incident_timestamp_dt_day_of_month'] = df['incident_timestamp_dt'].dt.day"
   ]
  },
  {
   "cell_type": "code",
   "execution_count": 12,
   "metadata": {},
   "outputs": [
    {
     "name": "stdout",
     "output_type": "stream",
     "text": [
      "Wall time: 776 ms\n"
     ]
    }
   ],
   "source": [
    "%%time\n",
    "process_timestamps()"
   ]
  },
  {
   "cell_type": "markdown",
   "metadata": {},
   "source": [
    "### Save"
   ]
  },
  {
   "cell_type": "markdown",
   "metadata": {},
   "source": [
    "**Let's save the preprocessed data**.  \n",
    "After that, it's ready to be loaded to cloud storage."
   ]
  },
  {
   "cell_type": "code",
   "execution_count": 13,
   "metadata": {},
   "outputs": [
    {
     "name": "stdout",
     "output_type": "stream",
     "text": [
      "App. file size is: 72.57 MB; shape of file is (264568, 30), rows x cols;\n"
     ]
    }
   ],
   "source": [
    "# memory usage of each column in bytes\n",
    "memory_usege = df.memory_usage().sum() / (1024 * 1024)\n",
    "print('App. file size is: {0} MB; shape of file is {1}, rows x cols;'.format(memory_usege.round(2), df.shape))\n",
    "del memory_usege"
   ]
  },
  {
   "cell_type": "code",
   "execution_count": 14,
   "metadata": {},
   "outputs": [],
   "source": [
    "df.to_csv(PATH_TO_PROC_DATA + 'RMS_Crime_Incidents_modified.csv')"
   ]
  },
  {
   "cell_type": "markdown",
   "metadata": {},
   "source": [
    "***"
   ]
  },
  {
   "cell_type": "markdown",
   "metadata": {},
   "source": [
    "### Save to storage"
   ]
  },
  {
   "cell_type": "markdown",
   "metadata": {},
   "source": [
    "**Let's load the preprocessed data to cloud storage**.  \n",
    "After that, it would be ready to access from everywhere."
   ]
  },
  {
   "cell_type": "code",
   "execution_count": 1,
   "metadata": {},
   "outputs": [],
   "source": [
    "import pandas as pd\n",
    "PATH_TO_PROC_DATA = 'data\\\\interim\\\\'\n",
    "\n",
    "import src.db_connector\n",
    "    \n",
    "def load_to_storage(base_name : str ='crimes', collection_name : str ='example'):\n",
    "    '''\n",
    "    load elements from container to the cloud database.\n",
    "    # PANDAS case example https://sricharanphp.blogspot.com/2020/01/insert-pandas-dataframe-into-mongodb.html\n",
    "    \n",
    "    :Parameters:\n",
    "    \n",
    "    input\n",
    "        - :base_name: mongo's DATABASE name\n",
    "        - :collection_name: mongo's DATABASE.COLLECTION name\n",
    "    return\n",
    "        - :None: inserted to DB data\n",
    "    '''\n",
    "    # prepare data\n",
    "    df = pd.read_csv(PATH_TO_PROC_DATA + 'RMS_Crime_Incidents_modified.csv', \n",
    "                      index_col=0, low_memory=False)\n",
    "    df.reset_index(inplace=True) # dangerous point\n",
    "    print(df.shape)\n",
    "    # load data\n",
    "    mongo_string = src.db_connector.read_credentials()\n",
    "    client = src.db_connector.db_connector(connect_mongo_string=mongo_string)\n",
    "    db_database = client[base_name]\n",
    "    collection = db_database[collection_name]\n",
    "    \n",
    "    src.db_connector.insert_many_items(collection=collection, container=df.to_dict(\"records\")) # df.head(5)"
   ]
  },
  {
   "cell_type": "code",
   "execution_count": 2,
   "metadata": {},
   "outputs": [
    {
     "name": "stdout",
     "output_type": "stream",
     "text": [
      "Wall time: 10min 18s\n"
     ]
    }
   ],
   "source": [
    "%%time\n",
    "LOAD_REQ = True\n",
    "if LOAD_REQ == True:\n",
    "    load_to_storage('crimes', 'detroit')"
   ]
  },
  {
   "cell_type": "markdown",
   "metadata": {},
   "source": [
    "***"
   ]
  },
  {
   "cell_type": "code",
   "execution_count": null,
   "metadata": {},
   "outputs": [],
   "source": []
  }
 ],
 "metadata": {
  "kernelspec": {
   "display_name": "Python 3",
   "language": "python",
   "name": "python3"
  },
  "language_info": {
   "codemirror_mode": {
    "name": "ipython",
    "version": 3
   },
   "file_extension": ".py",
   "mimetype": "text/x-python",
   "name": "python",
   "nbconvert_exporter": "python",
   "pygments_lexer": "ipython3",
   "version": "3.7.3"
  }
 },
 "nbformat": 4,
 "nbformat_minor": 2
}
