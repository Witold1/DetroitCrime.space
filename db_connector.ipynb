{
 "cells": [
  {
   "cell_type": "markdown",
   "metadata": {},
   "source": [
    "### Current state: \n",
    "* Automatically loads data from detroit.opendata portal to cloud mongoDB.Atlas cluster"
   ]
  },
  {
   "cell_type": "code",
   "execution_count": 11,
   "metadata": {},
   "outputs": [],
   "source": [
    "import pandas as pd\n",
    "from typing import Union\n",
    "import pymongo\n",
    "pymongo.version\n",
    "\n",
    "from src.logger import prepare_logger\n",
    "logger = prepare_logger()\n",
    "\n",
    "from tqdm import tqdm"
   ]
  },
  {
   "cell_type": "code",
   "execution_count": 12,
   "metadata": {},
   "outputs": [],
   "source": [
    "def read_credentials(file_path : str = './data/credentials.txt') -> str:\n",
    "    '''\n",
    "    read password and dbname from external file to prepare connector string to pymongo.mongo_client.MongoClient\n",
    "    # Mongo docs\n",
    "    # Connect to Your Cluster\n",
    "    # https://docs.atlas.mongodb.com/tutorial/connect-to-your-cluster/\n",
    "    # Insert and View Data in Your Cluster -> \n",
    "    # https://docs.atlas.mongodb.com/tutorial/insert-data-into-your-cluster/\n",
    "    \n",
    "    :Parameters:\n",
    "    \n",
    "    input\n",
    "        - :file_path: file path to credentials to mongo CLUSTER\n",
    "    return\n",
    "        - :connect_mongo_string: mongo's string to CLUSTER connection via application\n",
    "    '''\n",
    "    import json\n",
    "    with open(file_path, encoding='utf-8', mode='r') as f:\n",
    "        json_credentials_dict = json.load(f)\n",
    "        connect_mongo_string = json_credentials_dict['mongo_string'].format_map(json_credentials_dict)\n",
    "        return connect_mongo_string"
   ]
  },
  {
   "cell_type": "code",
   "execution_count": 13,
   "metadata": {},
   "outputs": [],
   "source": [
    "def db_connector(connect_mongo_string : str) -> pymongo.mongo_client.MongoClient:\n",
    "    '''\n",
    "    connects to cloud database endpoint. connects to CLUSTER and return pymongo.mongo_client.MongoClient or error text\n",
    "    # Mongo docs\n",
    "    # Insert and View Data in Your Cluster -> \n",
    "    # https://docs.atlas.mongodb.com/tutorial/insert-data-into-your-cluster/\n",
    "    \n",
    "    :Parameters:\n",
    "    \n",
    "    input\n",
    "        - :connect_mongo_string: mongo's string to CLUSTER connection via application\n",
    "    return\n",
    "        - :client: pymongo.mongo_client.MongoClient\n",
    "    '''\n",
    "    if connect_mongo_string is not None: \n",
    "        try:\n",
    "            client = pymongo.MongoClient(connect_mongo_string)\n",
    "            if client.admin.command('replSetGetStatus')['ok']: logger.info(f'Сonnection to cloud: True')     \n",
    "            return client\n",
    "        except pymongo.errors.OperationFailure:\n",
    "            print(' bad auth Authentication failed.')\n",
    "            logger.info(f' bad auth Authentication failed.')"
   ]
  },
  {
   "cell_type": "code",
   "execution_count": 14,
   "metadata": {},
   "outputs": [],
   "source": [
    "def insert_per_one_item(collection : pymongo.collection.Collection, container : Union[pd.DataFrame, dict], one : bool = True):\n",
    "    '''\n",
    "    insert elements from container to cloud database. get DATABASE.COLLECTION and insert data iterating over container\n",
    "    # Insert and View Data in Your Cluster -> \n",
    "    # https://docs.atlas.mongodb.com/tutorial/insert-data-into-your-cluster/\n",
    "    \n",
    "    :Parameters:\n",
    "    \n",
    "    input\n",
    "        - :collection: mongo's DATABASE.COLLECTION\n",
    "        - :container: DataFrame or dict \n",
    "    return\n",
    "        - :items: container to cloud database\n",
    "        - :inserted_ids: container of unique ids\n",
    "    '''\n",
    "    for item in tqdm(container):\n",
    "        # theoretically, wi may use update(..., upsert=True) logic or just load the whole base\n",
    "        # https://pymongo.readthedocs.io/en/stable/tutorial.html#bulk-inserts\n",
    "        # https://pymongo.readthedocs.io/en/stable/api/index.html\n",
    "        # PANDAS case https://sricharanphp.blogspot.com/2020/01/insert-pandas-dataframe-into-mongodb.html\n",
    "        inserted_item_object = collection.insert_one(item)\n",
    "        # print(inserted_item_object.inserted_id)\n",
    "\n",
    "def insert_many_items(collection : pymongo.collection.Collection, container : Union[pd.DataFrame, dict], one : bool = True):\n",
    "    '''\n",
    "    insert elements from container to cloud database. get DATABASE.COLLECTION and insert data iterating over container\n",
    "    # Insert and View Data in Your Cluster -> \n",
    "    # https://docs.atlas.mongodb.com/tutorial/insert-data-into-your-cluster/\n",
    "    \n",
    "    :Parameters:\n",
    "    \n",
    "    input\n",
    "        - :collection: mongo's DATABASE.COLLECTION\n",
    "        - :container: DataFrame or dict \n",
    "    return\n",
    "        - :items: container to cloud database\n",
    "        - :inserted_ids: container of unique ids\n",
    "    '''\n",
    "    # https://docs.mongodb.com/manual/reference/method/db.collection.insertMany/\n",
    "    inserted_item_object = collection.insert_many(container)\n",
    "        # print(inserted_item_object.inserted_id)"
   ]
  },
  {
   "cell_type": "code",
   "execution_count": 15,
   "metadata": {},
   "outputs": [],
   "source": [
    "def get_items(collection : pymongo.collection.Collection):\n",
    "    '''\n",
    "    find all elements from cloud database. get DATABASE.COLLECTION and iterate with cursor\n",
    "    # Mongo docs\n",
    "    # Insert and View Data in Your Cluster -> \n",
    "    # https://docs.atlas.mongodb.com/tutorial/insert-data-into-your-cluster/\n",
    "    \n",
    "    :Parameters:\n",
    "    \n",
    "    input\n",
    "        - :collection: mongo's DATABASE.COLLECTION\n",
    "    return\n",
    "        - :items: container with all items from cloud database\n",
    "    '''\n",
    "    db_cursor = collection.find({})\n",
    "    aux_list = []\n",
    "    for item in db_cursor:\n",
    "        yield item\n",
    "    logger.info(f'Database got. {collection.database.name}/{collection.name}')"
   ]
  },
  {
   "cell_type": "markdown",
   "metadata": {},
   "source": [
    "> Connect to sample storage instance (MongoDB.Atlas 'collection') in a cloud"
   ]
  },
  {
   "cell_type": "code",
   "execution_count": 16,
   "metadata": {},
   "outputs": [],
   "source": [
    "mongo_string = read_credentials()"
   ]
  },
  {
   "cell_type": "code",
   "execution_count": 17,
   "metadata": {},
   "outputs": [],
   "source": [
    "client = db_connector(mongo_string) "
   ]
  },
  {
   "cell_type": "code",
   "execution_count": 18,
   "metadata": {},
   "outputs": [],
   "source": [
    "db_database = client['crimes']\n",
    "collection = db_database['detroit_example']"
   ]
  },
  {
   "cell_type": "markdown",
   "metadata": {},
   "source": [
    "> Load sample data"
   ]
  },
  {
   "cell_type": "code",
   "execution_count": 19,
   "metadata": {},
   "outputs": [],
   "source": [
    "import datetime\n",
    "personDocument = {\n",
    "  \"name\": { \"first\": \"Alan\", \"last\": \"Turing II, Jr.\" },\n",
    "  \"birth\": datetime.datetime(1912, 6, 23),\n",
    "  \"death\": datetime.datetime(1954, 6, 7),\n",
    "  \"contribs\": [ \"Turing machine\", \"Turing test\", \"Turingery\" ],\n",
    "  \"views\": 125000012111\n",
    "}"
   ]
  },
  {
   "cell_type": "code",
   "execution_count": 20,
   "metadata": {},
   "outputs": [
    {
     "name": "stderr",
     "output_type": "stream",
     "text": [
      "100%|████████████████████████████████████████████| 1/1 [00:00<00:00, 17.67it/s]\n"
     ]
    }
   ],
   "source": [
    "insert_per_one_item(collection=collection, container=[personDocument])"
   ]
  },
  {
   "cell_type": "markdown",
   "metadata": {},
   "source": [
    "> Get sample data"
   ]
  },
  {
   "cell_type": "code",
   "execution_count": 21,
   "metadata": {},
   "outputs": [
    {
     "data": {
      "text/plain": [
       "<generator object get_items at 0x000000E9F8A5FA20>"
      ]
     },
     "execution_count": 21,
     "metadata": {},
     "output_type": "execute_result"
    }
   ],
   "source": [
    "get_items(collection)"
   ]
  },
  {
   "cell_type": "markdown",
   "metadata": {},
   "source": [
    "***"
   ]
  },
  {
   "cell_type": "code",
   "execution_count": null,
   "metadata": {},
   "outputs": [],
   "source": []
  }
 ],
 "metadata": {
  "kernelspec": {
   "display_name": "Python 3",
   "language": "python",
   "name": "python3"
  },
  "language_info": {
   "codemirror_mode": {
    "name": "ipython",
    "version": 3
   },
   "file_extension": ".py",
   "mimetype": "text/x-python",
   "name": "python",
   "nbconvert_exporter": "python",
   "pygments_lexer": "ipython3",
   "version": "3.7.3"
  }
 },
 "nbformat": 4,
 "nbformat_minor": 4
}
