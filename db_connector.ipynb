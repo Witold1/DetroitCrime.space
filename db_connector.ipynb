{
 "cells": [
  {
   "cell_type": "markdown",
   "metadata": {},
   "source": [
    "Current state: \n",
    "* Automatically loads to cloud mongoDB.Atlas cluster data manually downloaded from detroit.opendata portal"
   ]
  },
  {
   "cell_type": "code",
   "execution_count": 1,
   "metadata": {},
   "outputs": [],
   "source": [
    "import pandas as pd\n",
    "from typing import Union\n",
    "import pymongo\n",
    "pymongo.version\n",
    "\n",
    "from src.logger import prepare_logger\n",
    "logger = prepare_logger()"
   ]
  },
  {
   "cell_type": "code",
   "execution_count": 2,
   "metadata": {},
   "outputs": [],
   "source": [
    "def read_credentials(file_path : str = './data/credentials.txt') -> str:\n",
    "    '''\n",
    "    read password and dbname from external file to prepare connector string to pymongo.mongo_client.MongoClient\n",
    "    # Connect to Your Cluster\n",
    "    # https://docs.atlas.mongodb.com/tutorial/connect-to-your-cluster/\n",
    "    # Insert and View Data in Your Cluster -> \n",
    "    # https://docs.atlas.mongodb.com/tutorial/insert-data-into-your-cluster/\n",
    "    \n",
    "    :Parameters:\n",
    "    \n",
    "    input\n",
    "        - :file_path: file path to credentials to mongo CLUSTER\n",
    "    return\n",
    "        - :connect_mongo_string: mongo's string to CLUSTER connection via application\n",
    "    '''\n",
    "    import json\n",
    "    with open(file_path, encoding='utf-8', mode='r') as f:\n",
    "        json_credentials_dict = json.load(f)\n",
    "        connect_mongo_string = json_credentials_dict['mongo_string'].format_map(json_credentials_dict)\n",
    "        return connect_mongo_string"
   ]
  },
  {
   "cell_type": "code",
   "execution_count": 3,
   "metadata": {},
   "outputs": [],
   "source": [
    "def db_connector(connect_mongo_string : str) -> pymongo.mongo_client.MongoClient:\n",
    "    '''\n",
    "    connects to cloud database endpoint. connects to CLUSTER and return pymongo.mongo_client.MongoClient or error text\n",
    "    # Insert and View Data in Your Cluster -> \n",
    "    # https://docs.atlas.mongodb.com/tutorial/insert-data-into-your-cluster/\n",
    "    \n",
    "    :Parameters:\n",
    "    \n",
    "    input\n",
    "        - :connect_mongo_string: mongo's string to CLUSTER connection via application\n",
    "    return\n",
    "        - :client: pymongo.mongo_client.MongoClient\n",
    "    '''\n",
    "    if connect_mongo_string is not None: \n",
    "        try:\n",
    "            client = pymongo.MongoClient(connect_mongo_string)\n",
    "            if client.admin.command('replSetGetStatus')['ok']: logger.info(f'Сonnection to cloud: True')     \n",
    "            return client\n",
    "        except pymongo.errors.OperationFailure:\n",
    "            print(' bad auth Authentication failed.')\n",
    "            logger.info(f' bad auth Authentication failed.')"
   ]
  },
  {
   "cell_type": "code",
   "execution_count": 4,
   "metadata": {},
   "outputs": [],
   "source": [
    "def insert_items(collection : pymongo.collection.Collection, container : Union[pd.DataFrame, dict], one : bool = True):\n",
    "    '''\n",
    "    insert elements from container to cloud database. get DATABASE.COLLECTION and insert data iterating over container\n",
    "    # Insert and View Data in Your Cluster -> \n",
    "    # https://docs.atlas.mongodb.com/tutorial/insert-data-into-your-cluster/\n",
    "    \n",
    "    :Parameters:\n",
    "    \n",
    "    input\n",
    "        - :collection: mongo's DATABASE.COLLECTION\n",
    "        - :container: DataFrame or dict \n",
    "    return\n",
    "        - :items: container to cloud database\n",
    "        - :inserted_ids: container of unique ids\n",
    "    '''\n",
    "    for item in container:\n",
    "        # theoretically, wi may use update(..., upsert=True) logic or just load the whole base\n",
    "        # https://pymongo.readthedocs.io/en/stable/tutorial.html#bulk-inserts\n",
    "        # https://pymongo.readthedocs.io/en/stable/api/index.html\n",
    "        inserted_item_object = collection.insert_one(item)\n",
    "        print(inserted_item_object.inserted_id)\n",
    "    logger.info(f'Items inserted.')"
   ]
  },
  {
   "cell_type": "code",
   "execution_count": 5,
   "metadata": {},
   "outputs": [],
   "source": [
    "def get_items(collection : pymongo.collection.Collection):\n",
    "    '''\n",
    "    find all elements from cloud database. get DATABASE.COLLECTION and iterate with cursor\n",
    "    # Insert and View Data in Your Cluster -> \n",
    "    # https://docs.atlas.mongodb.com/tutorial/insert-data-into-your-cluster/\n",
    "    \n",
    "    :Parameters:\n",
    "    \n",
    "    input\n",
    "        - :collection: mongo's DATABASE.COLLECTION\n",
    "    return\n",
    "        - :items: container with all items from cloud database\n",
    "    '''\n",
    "    db_cursor = collection.find({})\n",
    "    for item in db_cursor:\n",
    "        print(item)\n",
    "    logger.info(f'Database got. {collection.database.name}/{collection.name}')"
   ]
  },
  {
   "cell_type": "code",
   "execution_count": 6,
   "metadata": {},
   "outputs": [],
   "source": [
    "mongo_string = read_credentials()"
   ]
  },
  {
   "cell_type": "code",
   "execution_count": 7,
   "metadata": {},
   "outputs": [],
   "source": [
    "client = db_connector(mongo_string) "
   ]
  },
  {
   "cell_type": "code",
   "execution_count": 8,
   "metadata": {},
   "outputs": [],
   "source": [
    "db_database = client['crimes']\n",
    "collection = db_database['detroit']"
   ]
  },
  {
   "cell_type": "markdown",
   "metadata": {},
   "source": [
    "> Load sample data"
   ]
  },
  {
   "cell_type": "code",
   "execution_count": 9,
   "metadata": {},
   "outputs": [],
   "source": [
    "import datetime\n",
    "personDocument = {\n",
    "  \"name\": { \"first\": \"Alan\", \"last\": \"Turing II, Jr.\" },\n",
    "  \"birth\": datetime.datetime(1912, 6, 23),\n",
    "  \"death\": datetime.datetime(1954, 6, 7),\n",
    "  \"contribs\": [ \"Turing machine\", \"Turing test\", \"Turingery\" ],\n",
    "  \"views\": 125000012111\n",
    "}"
   ]
  },
  {
   "cell_type": "code",
   "execution_count": 10,
   "metadata": {},
   "outputs": [
    {
     "name": "stdout",
     "output_type": "stream",
     "text": [
      "5ef13e808726e315ec991493\n"
     ]
    }
   ],
   "source": [
    "insert_items(collection=collection, container=[personDocument])"
   ]
  },
  {
   "cell_type": "code",
   "execution_count": 11,
   "metadata": {},
   "outputs": [
    {
     "name": "stdout",
     "output_type": "stream",
     "text": [
      "{'_id': ObjectId('5ef13bb38726e31c14bde94d'), 'X': -83.04574412799997, 'Y': 42.337435095000046, 'crime_id': 3057974, 'report_number': 1705020116, 'address': 'Brush St & Madison St', 'offense_description': 'INTIMIDATION / STALKING', 'offense_category': 'ASSAULT', 'state_offense_code': 1303, 'arrest_charge': '13003', 'charge_description': 'INTIMIDATION / STALKING', 'incident_timestamp': '2017-05-02T18:00:00.000Z', 'incident_time': '14:00', 'day_of_week': 2, 'hour_of_day': 14, 'year': 2017, 'scout_car_area': '0312', 'precinct': '03', 'block_id': 261635172002033, 'neighborhood': 'Downtown', 'council_district': 5, 'zip_code': 48226, 'longitude': -83.0457441283857, 'latitude': 42.337435095232294, 'oid': 26994990, 'Crime Against': 'Person', 'incident_timestamp_dt': '2017-05-02 14:00:00-04:00', 'incident_timestamp_dt_month': 5, 'incident_timestamp_dt_hour': 14, 'incident_timestamp_dt_day_of_week': 1, 'incident_timestamp_dt_day_of_month': 2}\n",
      "{'_id': ObjectId('5ef13bb38726e31c14bde94e'), 'X': -83.15220004799994, 'Y': 42.44111934500006, 'crime_id': 3018981, 'report_number': 1701280248, 'address': 'Chippewa St & Greenlawn St', 'offense_description': 'ARSON', 'offense_category': 'BURGLARY', 'state_offense_code': 2201, 'arrest_charge': '22001', 'charge_description': 'BURGLARY - FORCED ENTRY', 'incident_timestamp': '2017-01-26T08:30:00.000Z', 'incident_time': '03:30', 'day_of_week': 4, 'hour_of_day': 3, 'year': 2017, 'scout_car_area': '1203', 'precinct': '12', 'block_id': 261635390002005, 'neighborhood': 'Garden Homes', 'council_district': 2, 'zip_code': 48221, 'longitude': -83.15220004758409, 'latitude': 42.441119345347204, 'oid': 26994991, 'Crime Against': 'Property', 'incident_timestamp_dt': '2017-01-26 03:30:00-05:00', 'incident_timestamp_dt_month': 1, 'incident_timestamp_dt_hour': 3, 'incident_timestamp_dt_day_of_week': 3, 'incident_timestamp_dt_day_of_month': 26}\n",
      "{'_id': ObjectId('5ef13bb38726e31c14bde94f'), 'X': -83.14346986099997, 'Y': 42.33441377200006, 'crime_id': 3251044, 'report_number': 1808150108, 'address': 'McGraw St & Lumley St', 'offense_description': 'LARCENY - OTHER', 'offense_category': 'LARCENY', 'state_offense_code': 2307, 'arrest_charge': '23007', 'charge_description': 'LARCENY - OTHER', 'incident_timestamp': '2018-08-13T04:30:00.000Z', 'incident_time': '00:30', 'day_of_week': 1, 'hour_of_day': 0, 'year': 2018, 'scout_car_area': '0401', 'precinct': '04', 'block_id': 261635262001012, 'neighborhood': 'Claytown', 'council_district': 6, 'zip_code': 48210, 'longitude': -83.1434698614596, 'latitude': 42.3344137724456, 'oid': 26994992, 'Crime Against': 'Property', 'incident_timestamp_dt': '2018-08-13 00:30:00-04:00', 'incident_timestamp_dt_month': 8, 'incident_timestamp_dt_hour': 0, 'incident_timestamp_dt_day_of_week': 0, 'incident_timestamp_dt_day_of_month': 13}\n",
      "{'_id': ObjectId('5ef13e808726e315ec991493'), 'name': {'first': 'Alan', 'last': 'Turing II, Jr.'}, 'birth': datetime.datetime(1912, 6, 23, 0, 0), 'death': datetime.datetime(1954, 6, 7, 0, 0), 'contribs': ['Turing machine', 'Turing test', 'Turingery'], 'views': 125000012111}\n"
     ]
    }
   ],
   "source": [
    "get_items(collection)"
   ]
  },
  {
   "cell_type": "markdown",
   "metadata": {},
   "source": [
    "***"
   ]
  },
  {
   "cell_type": "code",
   "execution_count": 12,
   "metadata": {},
   "outputs": [
    {
     "name": "stderr",
     "output_type": "stream",
     "text": [
      "D:\\Anaconda\\lib\\site-packages\\IPython\\core\\interactiveshell.py:3063: DtypeWarning: Columns (9,16,17) have mixed types.Specify dtype option on import or set low_memory=False.\n",
      "  interactivity=interactivity, compiler=compiler, result=result)\n"
     ]
    }
   ],
   "source": [
    "df = pd.read_csv('data/RMS_Crime_Incidents2016_modified.csv', index_col=0)"
   ]
  },
  {
   "cell_type": "code",
   "execution_count": 13,
   "metadata": {
    "scrolled": true
   },
   "outputs": [
    {
     "name": "stdout",
     "output_type": "stream",
     "text": [
      "App. file size if: 63.01 MB; shape is (266420, 30), rows*cols;\n"
     ]
    }
   ],
   "source": [
    "memory_usege = df.memory_usage().sum() / (1024 * 1024)\n",
    "print('App. file size if: {0} MB; shape is {1}, rows*cols;'.format(memory_usege.round(2), df.shape))"
   ]
  },
  {
   "cell_type": "code",
   "execution_count": 14,
   "metadata": {},
   "outputs": [
    {
     "data": {
      "text/html": [
       "<div>\n",
       "<style scoped>\n",
       "    .dataframe tbody tr th:only-of-type {\n",
       "        vertical-align: middle;\n",
       "    }\n",
       "\n",
       "    .dataframe tbody tr th {\n",
       "        vertical-align: top;\n",
       "    }\n",
       "\n",
       "    .dataframe thead th {\n",
       "        text-align: right;\n",
       "    }\n",
       "</style>\n",
       "<table border=\"1\" class=\"dataframe\">\n",
       "  <thead>\n",
       "    <tr style=\"text-align: right;\">\n",
       "      <th></th>\n",
       "      <th>X</th>\n",
       "      <th>Y</th>\n",
       "      <th>crime_id</th>\n",
       "      <th>report_number</th>\n",
       "      <th>address</th>\n",
       "      <th>offense_description</th>\n",
       "      <th>offense_category</th>\n",
       "      <th>state_offense_code</th>\n",
       "      <th>arrest_charge</th>\n",
       "      <th>charge_description</th>\n",
       "      <th>...</th>\n",
       "      <th>zip_code</th>\n",
       "      <th>longitude</th>\n",
       "      <th>latitude</th>\n",
       "      <th>oid</th>\n",
       "      <th>Crime Against</th>\n",
       "      <th>incident_timestamp_dt</th>\n",
       "      <th>incident_timestamp_dt_month</th>\n",
       "      <th>incident_timestamp_dt_hour</th>\n",
       "      <th>incident_timestamp_dt_day_of_week</th>\n",
       "      <th>incident_timestamp_dt_day_of_month</th>\n",
       "    </tr>\n",
       "  </thead>\n",
       "  <tbody>\n",
       "    <tr>\n",
       "      <th>0</th>\n",
       "      <td>-83.045744</td>\n",
       "      <td>42.337435</td>\n",
       "      <td>3057974</td>\n",
       "      <td>1705020116</td>\n",
       "      <td>Brush St &amp; Madison St</td>\n",
       "      <td>INTIMIDATION / STALKING</td>\n",
       "      <td>ASSAULT</td>\n",
       "      <td>1303</td>\n",
       "      <td>13003</td>\n",
       "      <td>INTIMIDATION / STALKING</td>\n",
       "      <td>...</td>\n",
       "      <td>48226</td>\n",
       "      <td>-83.045744</td>\n",
       "      <td>42.337435</td>\n",
       "      <td>26994990</td>\n",
       "      <td>Person</td>\n",
       "      <td>2017-05-02 14:00:00-04:00</td>\n",
       "      <td>5</td>\n",
       "      <td>14</td>\n",
       "      <td>1</td>\n",
       "      <td>2</td>\n",
       "    </tr>\n",
       "    <tr>\n",
       "      <th>1</th>\n",
       "      <td>-83.152200</td>\n",
       "      <td>42.441119</td>\n",
       "      <td>3018981</td>\n",
       "      <td>1701280248</td>\n",
       "      <td>Chippewa St &amp; Greenlawn St</td>\n",
       "      <td>ARSON</td>\n",
       "      <td>BURGLARY</td>\n",
       "      <td>2201</td>\n",
       "      <td>22001</td>\n",
       "      <td>BURGLARY - FORCED ENTRY</td>\n",
       "      <td>...</td>\n",
       "      <td>48221</td>\n",
       "      <td>-83.152200</td>\n",
       "      <td>42.441119</td>\n",
       "      <td>26994991</td>\n",
       "      <td>Property</td>\n",
       "      <td>2017-01-26 03:30:00-05:00</td>\n",
       "      <td>1</td>\n",
       "      <td>3</td>\n",
       "      <td>3</td>\n",
       "      <td>26</td>\n",
       "    </tr>\n",
       "    <tr>\n",
       "      <th>2</th>\n",
       "      <td>-83.143470</td>\n",
       "      <td>42.334414</td>\n",
       "      <td>3251044</td>\n",
       "      <td>1808150108</td>\n",
       "      <td>McGraw St &amp; Lumley St</td>\n",
       "      <td>LARCENY - OTHER</td>\n",
       "      <td>LARCENY</td>\n",
       "      <td>2307</td>\n",
       "      <td>23007</td>\n",
       "      <td>LARCENY - OTHER</td>\n",
       "      <td>...</td>\n",
       "      <td>48210</td>\n",
       "      <td>-83.143470</td>\n",
       "      <td>42.334414</td>\n",
       "      <td>26994992</td>\n",
       "      <td>Property</td>\n",
       "      <td>2018-08-13 00:30:00-04:00</td>\n",
       "      <td>8</td>\n",
       "      <td>0</td>\n",
       "      <td>0</td>\n",
       "      <td>13</td>\n",
       "    </tr>\n",
       "    <tr>\n",
       "      <th>3</th>\n",
       "      <td>-83.013835</td>\n",
       "      <td>42.346181</td>\n",
       "      <td>3393605</td>\n",
       "      <td>1908050159</td>\n",
       "      <td>E Lafayette St &amp; Leib St</td>\n",
       "      <td>LARCENY - OTHER</td>\n",
       "      <td>LARCENY</td>\n",
       "      <td>2307</td>\n",
       "      <td>23007</td>\n",
       "      <td>LARCENY - OTHER</td>\n",
       "      <td>...</td>\n",
       "      <td>48207</td>\n",
       "      <td>-83.013835</td>\n",
       "      <td>42.346181</td>\n",
       "      <td>26994993</td>\n",
       "      <td>Property</td>\n",
       "      <td>2019-08-03 16:00:00-04:00</td>\n",
       "      <td>8</td>\n",
       "      <td>16</td>\n",
       "      <td>5</td>\n",
       "      <td>3</td>\n",
       "    </tr>\n",
       "    <tr>\n",
       "      <th>4</th>\n",
       "      <td>-83.156023</td>\n",
       "      <td>42.445779</td>\n",
       "      <td>3004324</td>\n",
       "      <td>1612200136</td>\n",
       "      <td>8 Mile Rd &amp; Cherrylawn St</td>\n",
       "      <td>FRAUD BY WIRE</td>\n",
       "      <td>FRAUD</td>\n",
       "      <td>2605</td>\n",
       "      <td>26005</td>\n",
       "      <td>FRAUD BY WIRE</td>\n",
       "      <td>...</td>\n",
       "      <td>48221</td>\n",
       "      <td>-83.156023</td>\n",
       "      <td>42.445779</td>\n",
       "      <td>26994994</td>\n",
       "      <td>Property</td>\n",
       "      <td>2016-11-21 14:20:00-05:00</td>\n",
       "      <td>11</td>\n",
       "      <td>14</td>\n",
       "      <td>0</td>\n",
       "      <td>21</td>\n",
       "    </tr>\n",
       "  </tbody>\n",
       "</table>\n",
       "<p>5 rows × 30 columns</p>\n",
       "</div>"
      ],
      "text/plain": [
       "           X          Y  crime_id  report_number                     address  \\\n",
       "0 -83.045744  42.337435   3057974     1705020116       Brush St & Madison St   \n",
       "1 -83.152200  42.441119   3018981     1701280248  Chippewa St & Greenlawn St   \n",
       "2 -83.143470  42.334414   3251044     1808150108       McGraw St & Lumley St   \n",
       "3 -83.013835  42.346181   3393605     1908050159    E Lafayette St & Leib St   \n",
       "4 -83.156023  42.445779   3004324     1612200136   8 Mile Rd & Cherrylawn St   \n",
       "\n",
       "       offense_description offense_category  state_offense_code arrest_charge  \\\n",
       "0  INTIMIDATION / STALKING          ASSAULT                1303         13003   \n",
       "1                    ARSON         BURGLARY                2201         22001   \n",
       "2          LARCENY - OTHER          LARCENY                2307         23007   \n",
       "3          LARCENY - OTHER          LARCENY                2307         23007   \n",
       "4            FRAUD BY WIRE            FRAUD                2605         26005   \n",
       "\n",
       "        charge_description  ... zip_code  longitude   latitude       oid  \\\n",
       "0  INTIMIDATION / STALKING  ...    48226 -83.045744  42.337435  26994990   \n",
       "1  BURGLARY - FORCED ENTRY  ...    48221 -83.152200  42.441119  26994991   \n",
       "2          LARCENY - OTHER  ...    48210 -83.143470  42.334414  26994992   \n",
       "3          LARCENY - OTHER  ...    48207 -83.013835  42.346181  26994993   \n",
       "4            FRAUD BY WIRE  ...    48221 -83.156023  42.445779  26994994   \n",
       "\n",
       "   Crime Against      incident_timestamp_dt incident_timestamp_dt_month  \\\n",
       "0         Person  2017-05-02 14:00:00-04:00                           5   \n",
       "1       Property  2017-01-26 03:30:00-05:00                           1   \n",
       "2       Property  2018-08-13 00:30:00-04:00                           8   \n",
       "3       Property  2019-08-03 16:00:00-04:00                           8   \n",
       "4       Property  2016-11-21 14:20:00-05:00                          11   \n",
       "\n",
       "   incident_timestamp_dt_hour incident_timestamp_dt_day_of_week  \\\n",
       "0                          14                                 1   \n",
       "1                           3                                 3   \n",
       "2                           0                                 0   \n",
       "3                          16                                 5   \n",
       "4                          14                                 0   \n",
       "\n",
       "   incident_timestamp_dt_day_of_month  \n",
       "0                                   2  \n",
       "1                                  26  \n",
       "2                                  13  \n",
       "3                                   3  \n",
       "4                                  21  \n",
       "\n",
       "[5 rows x 30 columns]"
      ]
     },
     "execution_count": 14,
     "metadata": {},
     "output_type": "execute_result"
    }
   ],
   "source": [
    "df.head()"
   ]
  },
  {
   "cell_type": "markdown",
   "metadata": {},
   "source": [
    "> Load modified sample data from detroit.opendata portal"
   ]
  },
  {
   "cell_type": "code",
   "execution_count": 15,
   "metadata": {},
   "outputs": [
    {
     "name": "stdout",
     "output_type": "stream",
     "text": [
      "crimes detroit\n",
      "5ef13e878726e315ec991494\n",
      "5ef13e878726e315ec991495\n",
      "5ef13e878726e315ec991496\n"
     ]
    }
   ],
   "source": [
    "print(db_database.name, collection.name)\n",
    "for row in df.head(3).iterrows():\n",
    "    #print(row[1].to_dict())\n",
    "    insert_items(collection=collection, container=[row[1].to_dict()])"
   ]
  },
  {
   "cell_type": "code",
   "execution_count": null,
   "metadata": {},
   "outputs": [],
   "source": []
  }
 ],
 "metadata": {
  "kernelspec": {
   "display_name": "Python 3",
   "language": "python",
   "name": "python3"
  },
  "language_info": {
   "codemirror_mode": {
    "name": "ipython",
    "version": 3
   },
   "file_extension": ".py",
   "mimetype": "text/x-python",
   "name": "python",
   "nbconvert_exporter": "python",
   "pygments_lexer": "ipython3",
   "version": "3.7.3"
  }
 },
 "nbformat": 4,
 "nbformat_minor": 4
}
