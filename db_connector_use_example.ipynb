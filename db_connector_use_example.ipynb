{
 "cells": [
  {
   "cell_type": "code",
   "execution_count": 1,
   "metadata": {},
   "outputs": [],
   "source": [
    "# раcкомментировать, если не добавлено в PATH или не установлено\n",
    "# !pip install  .\\.\n",
    "# !pip uninstall package_name\n",
    "\n",
    "# import sys\n",
    "# sys.path.insert(1, './src')"
   ]
  },
  {
   "cell_type": "code",
   "execution_count": 2,
   "metadata": {},
   "outputs": [],
   "source": [
    "import src.db_connector\n",
    "import datetime\n",
    "personDocument = {\n",
    "  \"name\": { \"first\": \"Alan\", \"last\": \"Turing II, Jr.\" },\n",
    "  \"birth\": datetime.datetime(1912, 6, 23),\n",
    "  \"death\": datetime.datetime(1954, 6, 7),\n",
    "  \"contribs\": [ \"Turing machine\", \"Turing test\", \"Turingery\" ],\n",
    "  \"views\": 125000012111\n",
    "}"
   ]
  },
  {
   "cell_type": "code",
   "execution_count": 3,
   "metadata": {},
   "outputs": [
    {
     "name": "stdout",
     "output_type": "stream",
     "text": [
      "5f455ced8726e30c3492a94f\n"
     ]
    }
   ],
   "source": [
    "if __name__ == '__main__':\n",
    "    mongo_string = src.db_connector.read_credentials()\n",
    "    client = src.db_connector.db_connector(connect_mongo_string=mongo_string)\n",
    "    db_database = client['crimes']\n",
    "    collection = db_database['detroit_2']\n",
    "    src.db_connector.insert_items(collection=collection, container=[personDocument])\n",
    "    src.db_connector.get_items(collection)"
   ]
  },
  {
   "cell_type": "code",
   "execution_count": 4,
   "metadata": {},
   "outputs": [
    {
     "data": {
      "text/plain": [
       "<generator object get_items at 0x000000BC84E62048>"
      ]
     },
     "execution_count": 4,
     "metadata": {},
     "output_type": "execute_result"
    }
   ],
   "source": [
    "src.db_connector.get_items(collection)"
   ]
  },
  {
   "cell_type": "code",
   "execution_count": 5,
   "metadata": {},
   "outputs": [
    {
     "data": {
      "text/plain": [
       "[{'_id': ObjectId('5f455ced8726e30c3492a94f'),\n",
       "  'name': {'first': 'Alan', 'last': 'Turing II, Jr.'},\n",
       "  'birth': datetime.datetime(1912, 6, 23, 0, 0),\n",
       "  'death': datetime.datetime(1954, 6, 7, 0, 0),\n",
       "  'contribs': ['Turing machine', 'Turing test', 'Turingery'],\n",
       "  'views': 125000012111}]"
      ]
     },
     "execution_count": 5,
     "metadata": {},
     "output_type": "execute_result"
    }
   ],
   "source": [
    "list(src.db_connector.get_items(collection))"
   ]
  },
  {
   "cell_type": "code",
   "execution_count": null,
   "metadata": {},
   "outputs": [],
   "source": []
  }
 ],
 "metadata": {
  "kernelspec": {
   "display_name": "Python 3",
   "language": "python",
   "name": "python3"
  },
  "language_info": {
   "codemirror_mode": {
    "name": "ipython",
    "version": 3
   },
   "file_extension": ".py",
   "mimetype": "text/x-python",
   "name": "python",
   "nbconvert_exporter": "python",
   "pygments_lexer": "ipython3",
   "version": "3.7.3"
  }
 },
 "nbformat": 4,
 "nbformat_minor": 4
}
