{
 "cells": [
  {
   "cell_type": "code",
   "execution_count": 1,
   "metadata": {},
   "outputs": [],
   "source": [
    "# раcкомментировать, если не добавлено в PATH или не установлено\n",
    "# !pip install  .\\.\n",
    "# !pip uninstall package_name\n",
    "\n",
    "# import sys\n",
    "# sys.path.insert(1, './src')"
   ]
  },
  {
   "cell_type": "code",
   "execution_count": 2,
   "metadata": {},
   "outputs": [],
   "source": [
    "import src.db_connector\n",
    "import datetime\n",
    "personDocument = {\n",
    "  \"name\": { \"first\": \"Alan\", \"last\": \"Turing II, Jr.\" },\n",
    "  \"birth\": datetime.datetime(1912, 6, 23),\n",
    "  \"death\": datetime.datetime(1954, 6, 7),\n",
    "  \"contribs\": [ \"Turing machine\", \"Turing test\", \"Turingery\" ],\n",
    "  \"views\": 125000012111\n",
    "}\n",
    "\n",
    "personDocuments = [{ '0': \"card\", 'qty': 15 },\n",
    "                   { '1': \"envelope\", 'qty': 20 },\n",
    "                   { '2': \"stamps\" , 'qty': 30 }]"
   ]
  },
  {
   "cell_type": "code",
   "execution_count": 3,
   "metadata": {},
   "outputs": [
    {
     "name": "stderr",
     "output_type": "stream",
     "text": [
      "100%|████████████████████████████████████████████| 1/1 [00:00<00:00, 17.02it/s]\n"
     ]
    }
   ],
   "source": [
    "if __name__ == '__main__':\n",
    "    mongo_string = src.db_connector.read_credentials()\n",
    "    client = src.db_connector.db_connector(connect_mongo_string=mongo_string)\n",
    "    db_database = client['crimes']\n",
    "    collection = db_database['example_one']\n",
    "    src.db_connector.insert_per_one_item(collection=collection, container=[personDocument])\n",
    "    src.db_connector.get_items(collection)"
   ]
  },
  {
   "cell_type": "code",
   "execution_count": 4,
   "metadata": {},
   "outputs": [],
   "source": [
    "if __name__ == '__main__':\n",
    "    mongo_string = src.db_connector.read_credentials()\n",
    "    client = src.db_connector.db_connector(connect_mongo_string=mongo_string)\n",
    "    db_database = client['crimes']\n",
    "    collection = db_database['example_many']\n",
    "    src.db_connector.insert_many_items(collection=collection, container=personDocuments)\n",
    "    src.db_connector.get_items(collection)"
   ]
  },
  {
   "cell_type": "code",
   "execution_count": 5,
   "metadata": {},
   "outputs": [
    {
     "data": {
      "text/plain": [
       "Collection(Database(MongoClient(host=['cluster0-shard-00-02-biafb.gcp.mongodb.net:27017', 'cluster0-shard-00-00-biafb.gcp.mongodb.net:27017', 'cluster0-shard-00-01-biafb.gcp.mongodb.net:27017'], document_class=dict, tz_aware=False, connect=True, ssl=True, replicaset='Cluster0-shard-0', authsource='admin', retrywrites=True, w='majority'), 'crimes'), 'example.Database.MongoClient.connect')"
      ]
     },
     "execution_count": 5,
     "metadata": {},
     "output_type": "execute_result"
    }
   ],
   "source": [
    "collection.Database.MongoClient.connect"
   ]
  },
  {
   "cell_type": "code",
   "execution_count": 6,
   "metadata": {},
   "outputs": [
    {
     "data": {
      "text/plain": [
       "<generator object get_items at 0x000000379A1B17C8>"
      ]
     },
     "execution_count": 6,
     "metadata": {},
     "output_type": "execute_result"
    }
   ],
   "source": [
    "src.db_connector.get_items(collection)"
   ]
  },
  {
   "cell_type": "code",
   "execution_count": 7,
   "metadata": {},
   "outputs": [
    {
     "data": {
      "text/plain": [
       "[{'_id': ObjectId('5f46c9b58726e3173c293bb9'),\n",
       "  'name': {'first': 'Alan', 'last': 'Turing II, Jr.'},\n",
       "  'birth': datetime.datetime(1912, 6, 23, 0, 0),\n",
       "  'death': datetime.datetime(1954, 6, 7, 0, 0),\n",
       "  'contribs': ['Turing machine', 'Turing test', 'Turingery'],\n",
       "  'views': 125000012111},\n",
       " {'_id': ObjectId('5f46c9b58726e3173c293bbb'), '0': 'card', 'qty': 15},\n",
       " {'_id': ObjectId('5f46c9b58726e3173c293bbc'), '1': 'envelope', 'qty': 20},\n",
       " {'_id': ObjectId('5f46c9b58726e3173c293bbd'), '2': 'stamps', 'qty': 30}]"
      ]
     },
     "execution_count": 7,
     "metadata": {},
     "output_type": "execute_result"
    }
   ],
   "source": [
    "list(src.db_connector.get_items(collection))"
   ]
  },
  {
   "cell_type": "code",
   "execution_count": null,
   "metadata": {},
   "outputs": [],
   "source": []
  }
 ],
 "metadata": {
  "kernelspec": {
   "display_name": "Python 3",
   "language": "python",
   "name": "python3"
  },
  "language_info": {
   "codemirror_mode": {
    "name": "ipython",
    "version": 3
   },
   "file_extension": ".py",
   "mimetype": "text/x-python",
   "name": "python",
   "nbconvert_exporter": "python",
   "pygments_lexer": "ipython3",
   "version": "3.7.3"
  }
 },
 "nbformat": 4,
 "nbformat_minor": 4
}
